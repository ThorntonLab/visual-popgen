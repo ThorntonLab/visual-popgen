{
 "cells": [
  {
   "cell_type": "markdown",
   "id": "fc90470f",
   "metadata": {},
   "source": [
    "# Mutation frequencies\n",
    "\n",
    "The node label format is `id: birth time`.\n",
    "\n",
    "The trees are the same as {ref}`here <trees_without_recombination>`.\n",
    "\n",
    "The expected frequency distributions are branch statistics following {cite:t}`Ralph2020-cg`.\n",
    "\n",
    "````{tabbed} Example 1\n",
    "```{glue:figure} tree1_fs\n",
    ":figwidth: 800\n",
    ":name: \"tree1_fs\"\n",
    "```\n",
    "```{glue:figure} tree1\n",
    ":figwidth: 800\n",
    ":name: \"tree1\"\n",
    "```\n",
    "````\n",
    "\n",
    "````{tabbed} Example 2\n",
    "```{glue:figure} tree2_fs\n",
    ":figwidth: 800\n",
    ":name: \"tree2_fs\"\n",
    "```\n",
    "```{glue:figure} tree2\n",
    ":figwidth: 800\n",
    ":name: \"tree2\"\n",
    "```\n",
    "````\n",
    "\n",
    "````{tabbed} Example 3\n",
    "```{glue:figure} tree3_fs\n",
    ":figwidth: 800\n",
    ":name: \"tree3_fs\"\n",
    "```\n",
    "```{glue:figure} tree3\n",
    ":figwidth: 800\n",
    ":name: \"tree3\"\n",
    "```\n",
    "````\n",
    "\n",
    "````{tabbed} Example 4\n",
    "```{glue:figure} tree4_fs\n",
    ":figwidth: 800\n",
    ":name: \"tree4_fs\"\n",
    "```\n",
    "```{glue:figure} tree4\n",
    ":figwidth: 800\n",
    ":name: \"tree4\"\n",
    "```\n",
    "````\n",
    "\n",
    "````{tabbed} Example 5\n",
    "```{glue:figure} tree5_fs\n",
    ":figwidth: 800\n",
    ":name: \"tree5_fs\"\n",
    "```\n",
    "```{glue:figure} tree5\n",
    ":figwidth: 800\n",
    ":name: \"tree5\"\n",
    "```\n",
    "````"
   ]
  }
 ],
 "metadata": {
  "jupytext": {
   "formats": "md:myst",
   "text_representation": {
    "extension": ".md",
    "format_name": "myst"
   }
  },
  "kernelspec": {
   "display_name": "Python 3",
   "language": "python",
   "name": "python3"
  },
  "language_info": {
   "codemirror_mode": {
    "name": "ipython",
    "version": 3
   },
   "file_extension": ".py",
   "mimetype": "text/x-python",
   "name": "python",
   "nbconvert_exporter": "python",
   "pygments_lexer": "ipython3",
   "version": "3.8.12"
  },
  "source_map": [
   11
  ]
 },
 "nbformat": 4,
 "nbformat_minor": 5
}