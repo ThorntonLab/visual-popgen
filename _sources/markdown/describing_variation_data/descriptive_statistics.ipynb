{
 "cells": [
  {
   "cell_type": "markdown",
   "id": "f020de2a",
   "metadata": {},
   "source": [
    "(descriptive_statistics)="
   ]
  },
  {
   "cell_type": "code",
   "execution_count": 1,
   "id": "6ead7637",
   "metadata": {
    "tags": [
     "hide-input"
    ]
   },
   "outputs": [],
   "source": [
    "# import modules\n",
    "import math\n",
    "\n",
    "import matplotlib.pyplot as plt\n",
    "import msprime\n",
    "from IPython.display import display\n",
    "from myst_nb import glue\n",
    "import numpy as np\n",
    "import pandas as pd\n",
    "import scipy.stats"
   ]
  },
  {
   "cell_type": "code",
   "execution_count": 2,
   "id": "f012fa2e",
   "metadata": {
    "tags": [
     "hide-input"
    ]
   },
   "outputs": [],
   "source": [
    "# Generate example data for this chapter\n",
    "\n",
    "ts = msprime.sim_ancestry(5, population_size=1.0, recombination_rate=0.,\n",
    "                          random_seed=54321, sequence_length=10000.0,\n",
    "                          discrete_genome=True)\n",
    "ts = msprime.sim_mutations(ts, rate=0.25/1e4, random_seed=12345,\n",
    "                           model=msprime.JC69(), discrete_genome=True)\n",
    "assert ts.num_mutations > 0"
   ]
  },
  {
   "cell_type": "markdown",
   "id": "01f9aa3c",
   "metadata": {},
   "source": [
    "# Simple descriptive statistics\n",
    "\n",
    "## The variation table.\n",
    "\n",
    "The most common representation of population genetic data is the *variation table*.\n",
    "This table is simply a \"spreadsheet\" showing the DNA states at positions that are variable amongst our samples.\n",
    "\n",
    "Below, we see an example of a variation table.\n",
    "The table has the following features:\n",
    "\n",
    "1. It is written in a matrix format.\n",
    "2. Rows correspond to individual genomes.\n",
    "3. Columns correspond to genomic positions that vary.\n",
    "4. The elements of the matrix are the DNA state at a certain position in a certain genome."
   ]
  },
  {
   "cell_type": "code",
   "execution_count": 3,
   "id": "1190c93d",
   "metadata": {
    "tags": [
     "hide-input"
    ]
   },
   "outputs": [
    {
     "name": "stdout",
     "output_type": "stream",
     "text": [
      "[['G' 'T' 'T' 'T']\n",
      " ['C' 'G' 'C' 'T']\n",
      " ['C' 'G' 'C' 'T']\n",
      " ['C' 'G' 'C' 'T']\n",
      " ['C' 'G' 'C' 'T']\n",
      " ['C' 'G' 'C' 'T']\n",
      " ['C' 'G' 'C' 'T']\n",
      " ['G' 'T' 'T' 'T']\n",
      " ['C' 'G' 'C' 'T']\n",
      " ['C' 'G' 'C' 'G']]\n"
     ]
    }
   ],
   "source": [
    "alleles = ('A','C','G','T')\n",
    "gmatrix = ts.genotype_matrix(alleles=alleles).T\n",
    "haplotypes = np.zeros(len(gmatrix.flatten()), dtype=np.unicode_)\n",
    "for i, a in enumerate(gmatrix.flatten()):\n",
    "    haplotypes[i] = alleles[a]\n",
    "haplotypes = haplotypes.reshape(gmatrix.shape)\n",
    "print(haplotypes)"
   ]
  },
  {
   "cell_type": "markdown",
   "id": "abc44078",
   "metadata": {},
   "source": [
    "The first row corresponds to the DNA states at all variable sites for the first genome:"
   ]
  },
  {
   "cell_type": "code",
   "execution_count": 4,
   "id": "be2f170d",
   "metadata": {},
   "outputs": [
    {
     "name": "stdout",
     "output_type": "stream",
     "text": [
      "['G' 'T' 'T' 'T']\n"
     ]
    }
   ],
   "source": [
    "print(haplotypes[0,:])"
   ]
  },
  {
   "cell_type": "markdown",
   "id": "7a0f8380",
   "metadata": {},
   "source": [
    "By comparing the rows to one another, we can start to see that some genomes are identical and other differ at one or more positions.\n",
    "There are ten rows, which is the number of genomes in the sample.\n",
    "\n",
    "The columns show use the states corresponding to each *site* in each genome.\n",
    "For example, the first column is:"
   ]
  },
  {
   "cell_type": "code",
   "execution_count": 5,
   "id": "5986d9d7",
   "metadata": {},
   "outputs": [
    {
     "name": "stdout",
     "output_type": "stream",
     "text": [
      "[['G']\n",
      " ['C']\n",
      " ['C']\n",
      " ['C']\n",
      " ['C']\n",
      " ['C']\n",
      " ['C']\n",
      " ['G']\n",
      " ['C']\n",
      " ['C']]\n"
     ]
    },
    {
     "data": {
      "text/plain": [
       "'G'"
      ]
     },
     "metadata": {
      "scrapbook": {
       "mime_prefix": "application/papermill.record/",
       "name": "first_genome_first_site"
      }
     },
     "output_type": "display_data"
    },
    {
     "data": {
      "text/plain": [
       "'C'"
      ]
     },
     "metadata": {
      "scrapbook": {
       "mime_prefix": "application/papermill.record/",
       "name": "second_genome_first_site"
      }
     },
     "output_type": "display_data"
    }
   ],
   "source": [
    "print(haplotypes[:,0].reshape((haplotypes.shape[0], 1)))\n",
    "glue(\"first_genome_first_site\", haplotypes[:,0][0], display=False)\n",
    "glue(\"second_genome_first_site\", haplotypes[:,0][1], display=False)"
   ]
  },
  {
   "cell_type": "markdown",
   "id": "acdaf6b7",
   "metadata": {},
   "source": [
    "Starting from the top, the first entry, {glue:text}`first_genome_first_site`, is the DNA state at the first variable site in the first genome.\n",
    "The second entry, {glue:text}`second_genome_first_site`, is the DNA state at the first variable site in the second genome.\n",
    "Etc..\n",
    "\n",
    "Our table is missing some important things:\n",
    "\n",
    "1. The positions are omitted.\n",
    "   How the positions are stored is a bioinformatic issue and will have to consider both the chromosome and the position along the chromosome.\n",
    "2. Sample *labels* are also missing.\n",
    "   We are being intentionally vague/general here.\n",
    "   For example, the table could consist of ten haploid genomes.\n",
    "   Or, it could consist of five diploid genomes with each pair of rows representing the maternal/paternal genomes of an individual.\n",
    "   In practice, we need row labels in order to make full use of the data.\n",
    "\n",
    "A fuller representation of our data may thus look like the following, with columns labelled by position and rows labelled by sample identifier:"
   ]
  },
  {
   "cell_type": "code",
   "execution_count": 6,
   "id": "45f74c2a",
   "metadata": {},
   "outputs": [
    {
     "data": {
      "text/html": [
       "<div>\n",
       "<style scoped>\n",
       "    .dataframe tbody tr th:only-of-type {\n",
       "        vertical-align: middle;\n",
       "    }\n",
       "\n",
       "    .dataframe tbody tr th {\n",
       "        vertical-align: top;\n",
       "    }\n",
       "\n",
       "    .dataframe thead th {\n",
       "        text-align: right;\n",
       "    }\n",
       "</style>\n",
       "<table border=\"1\" class=\"dataframe\">\n",
       "  <thead>\n",
       "    <tr style=\"text-align: right;\">\n",
       "      <th></th>\n",
       "      <th>83</th>\n",
       "      <th>1064</th>\n",
       "      <th>2987</th>\n",
       "      <th>6531</th>\n",
       "    </tr>\n",
       "  </thead>\n",
       "  <tbody>\n",
       "    <tr>\n",
       "      <th>sample 0</th>\n",
       "      <td>G</td>\n",
       "      <td>T</td>\n",
       "      <td>T</td>\n",
       "      <td>T</td>\n",
       "    </tr>\n",
       "    <tr>\n",
       "      <th>sample 1</th>\n",
       "      <td>C</td>\n",
       "      <td>G</td>\n",
       "      <td>C</td>\n",
       "      <td>T</td>\n",
       "    </tr>\n",
       "    <tr>\n",
       "      <th>sample 2</th>\n",
       "      <td>C</td>\n",
       "      <td>G</td>\n",
       "      <td>C</td>\n",
       "      <td>T</td>\n",
       "    </tr>\n",
       "    <tr>\n",
       "      <th>sample 3</th>\n",
       "      <td>C</td>\n",
       "      <td>G</td>\n",
       "      <td>C</td>\n",
       "      <td>T</td>\n",
       "    </tr>\n",
       "    <tr>\n",
       "      <th>sample 4</th>\n",
       "      <td>C</td>\n",
       "      <td>G</td>\n",
       "      <td>C</td>\n",
       "      <td>T</td>\n",
       "    </tr>\n",
       "    <tr>\n",
       "      <th>sample 5</th>\n",
       "      <td>C</td>\n",
       "      <td>G</td>\n",
       "      <td>C</td>\n",
       "      <td>T</td>\n",
       "    </tr>\n",
       "    <tr>\n",
       "      <th>sample 6</th>\n",
       "      <td>C</td>\n",
       "      <td>G</td>\n",
       "      <td>C</td>\n",
       "      <td>T</td>\n",
       "    </tr>\n",
       "    <tr>\n",
       "      <th>sample 7</th>\n",
       "      <td>G</td>\n",
       "      <td>T</td>\n",
       "      <td>T</td>\n",
       "      <td>T</td>\n",
       "    </tr>\n",
       "    <tr>\n",
       "      <th>sample 8</th>\n",
       "      <td>C</td>\n",
       "      <td>G</td>\n",
       "      <td>C</td>\n",
       "      <td>T</td>\n",
       "    </tr>\n",
       "    <tr>\n",
       "      <th>sample 9</th>\n",
       "      <td>C</td>\n",
       "      <td>G</td>\n",
       "      <td>C</td>\n",
       "      <td>G</td>\n",
       "    </tr>\n",
       "  </tbody>\n",
       "</table>\n",
       "</div>"
      ],
      "text/plain": [
       "         83   1064 2987 6531\n",
       "sample 0    G    T    T    T\n",
       "sample 1    C    G    C    T\n",
       "sample 2    C    G    C    T\n",
       "sample 3    C    G    C    T\n",
       "sample 4    C    G    C    T\n",
       "sample 5    C    G    C    T\n",
       "sample 6    C    G    C    T\n",
       "sample 7    G    T    T    T\n",
       "sample 8    C    G    C    T\n",
       "sample 9    C    G    C    G"
      ]
     },
     "metadata": {},
     "output_type": "display_data"
    }
   ],
   "source": [
    "data = dict()\n",
    "for i, s in enumerate(ts.sites()):\n",
    "    data[int(s.position)] = haplotypes[:, i]\n",
    "\n",
    "df = pd.DataFrame(data)\n",
    "df.index = ['sample ' + str(i) for i in range(len(df.index))]\n",
    "\n",
    "display(df)"
   ]
  },
  {
   "cell_type": "markdown",
   "id": "3ac88c02",
   "metadata": {},
   "source": [
    "## Recoding the data\n",
    "\n",
    "It is often inconvenient to work with the data in the form shown above. \n",
    "For reasons having to do with efficient computation, it is often useful to recode the data.\n",
    "For example, we may choose to replace `A`, `C`, `G` and `T` with `0`, `1`, `2` and `3`, respectively:"
   ]
  },
  {
   "cell_type": "code",
   "execution_count": 7,
   "id": "c0aab13b",
   "metadata": {
    "tags": [
     "hide-input"
    ]
   },
   "outputs": [
    {
     "name": "stdout",
     "output_type": "stream",
     "text": [
      "[[2 3 3 3]\n",
      " [1 2 1 3]\n",
      " [1 2 1 3]\n",
      " [1 2 1 3]\n",
      " [1 2 1 3]\n",
      " [1 2 1 3]\n",
      " [1 2 1 3]\n",
      " [2 3 3 3]\n",
      " [1 2 1 3]\n",
      " [1 2 1 2]]\n"
     ]
    }
   ],
   "source": [
    "print(gmatrix)"
   ]
  },
  {
   "cell_type": "markdown",
   "id": "acd3e493",
   "metadata": {},
   "source": [
    "There is no loss of generality here.\n",
    "Rather, these recodings are practical matters that you are likely to run across when analyzing data.\n",
    "Various programs will expect the data to be encoded in a certain way.\n",
    "Fortunately, some standards are emerging.\n",
    "See {ref}`here <variation_data_bioinformatics>`.\n",
    "\n",
    "## The number of variable sites"
   ]
  },
  {
   "cell_type": "code",
   "execution_count": 8,
   "id": "b6aec281",
   "metadata": {},
   "outputs": [
    {
     "data": {
      "text/plain": [
       "10"
      ]
     },
     "metadata": {
      "scrapbook": {
       "mime_prefix": "application/papermill.record/",
       "name": "S"
      }
     },
     "output_type": "display_data"
    }
   ],
   "source": [
    "glue(\"S\", haplotypes.shape[0], display=False)"
   ]
  },
  {
   "cell_type": "markdown",
   "id": "b9076d01",
   "metadata": {},
   "source": [
    "The simplest summary of the data is a tally of the number of variable positions.\n",
    "For our example data set, this number is {glue:text}`S`.\n",
    "\n",
    "This statistic can be referred to by many synonyms, including:\n",
    "\n",
    "* The number of polymorphic sites\n",
    "* The number of segregating sites, where \"segregation\" is a term from Mendelian genetics.\n",
    "  This term is most famously associated with the paper by {cite:t}`Watterson1975-ej`.\n",
    "\n",
    "## The number of pairwise differences"
   ]
  },
  {
   "cell_type": "code",
   "execution_count": 9,
   "id": "039b2c7a",
   "metadata": {
    "tags": [
     "hide-input"
    ]
   },
   "outputs": [
    {
     "data": {
      "text/plain": [
       "1.2667"
      ]
     },
     "metadata": {
      "scrapbook": {
       "mime_prefix": "application/papermill.record/",
       "name": "mean_diffs"
      }
     },
     "output_type": "display_data"
    }
   ],
   "source": [
    "ndiffs = 0\n",
    "for i in range(gmatrix.shape[0]):\n",
    "    for j in range(i + 1, gmatrix.shape[0]):\n",
    "        for k,l in zip(gmatrix[i,:], gmatrix[j,:]):\n",
    "            if k != l:\n",
    "                ndiffs += 1\n",
    "ncomps = gmatrix.shape[0] * (gmatrix.shape[0] - 1) / 2\n",
    "ndiffs = ndiffs / ncomps\n",
    "tsdiv = ts.diversity([[i for i in ts.samples()]], span_normalise=False)[0]\n",
    "assert math.isclose(ndiffs, tsdiv), f\"{ndiffs} {tsdiv}\"\n",
    "glue(\"mean_diffs\", np.round(ndiffs, 4), display=False)"
   ]
  },
  {
   "cell_type": "markdown",
   "id": "5df44fd0",
   "metadata": {},
   "source": [
    "We are often concerned with how different our sample genomes are.\n",
    "A natural summary of the data then is the mean number of differences between all pairs of genomes.\n",
    "(Here, a pair never includes the same genome compared to itself).\n",
    "To calculate this value, one compares each genome to all others in the sample.\n",
    "For each pair, count the number of differences and divide by the number of pairs to get the mean.\n",
    "For the example data, this value is {glue:text}`mean_diffs`.\n",
    "\n",
    "The explicit formula for this statistic is {math}`\\pi = \\frac{\\sum_{i=1}^{n-1}\\sum_{j=i+1}^{n}D_{ij}}{C}`, where $D_{ij}$ is the number of differences between genomes {math}`i` and {math}`j` and {math}`C = {n \\choose 2} = \\frac{n(n-1)}{2}` for {math}`n` genomes.  The term {math}`C` is the number of pairs.\n",
    "\n",
    "TODO Citations: Nei and Tajima.\n",
    "\n",
    "## Heterozygosity"
   ]
  },
  {
   "cell_type": "code",
   "execution_count": 10,
   "id": "8f9edbcb",
   "metadata": {},
   "outputs": [
    {
     "name": "stdout",
     "output_type": "stream",
     "text": [
      "(array(['C', 'G'], dtype='<U1'), array([8, 2])) 0.35555555555555557\n"
     ]
    }
   ],
   "source": [
    "counts_site_0 = np.unique(haplotypes[:,0], return_counts=True)\n",
    "counts_site_0\n",
    "\n",
    "het_site_0 = 0.0\n",
    "\n",
    "nsam = haplotypes.shape[0]\n",
    "\n",
    "for c in counts_site_0[1]:\n",
    "    het_site_0 += c * (nsam - c)\n",
    "het_site_0 /= (nsam * (nsam - 1))\n",
    "\n",
    "print(counts_site_0, het_site_0)"
   ]
  },
  {
   "cell_type": "markdown",
   "id": "b494b627",
   "metadata": {},
   "source": [
    "## Homozygosity"
   ]
  },
  {
   "cell_type": "code",
   "execution_count": 11,
   "id": "2b566207",
   "metadata": {},
   "outputs": [
    {
     "name": "stdout",
     "output_type": "stream",
     "text": [
      "0.6444444444444445 0.3555555555555555\n"
     ]
    }
   ],
   "source": [
    "hom_site_0 = 0.0\n",
    "for c in counts_site_0[1]:\n",
    "    hom_site_0 += (c/haplotypes.shape[0])*((c - 1)/(haplotypes.shape[0]-1))\n",
    "\n",
    "assert math.isclose(het_site_0, 1.0 - hom_site_0)\n",
    "\n",
    "print(hom_site_0, 1.0 - hom_site_0)"
   ]
  },
  {
   "cell_type": "markdown",
   "id": "4c0681b5",
   "metadata": {},
   "source": [
    "## Normalizing by the length of a genomic region\n",
    "\n",
    "## Ancestral/derived and minor/major alleles\n",
    "\n",
    "The ancestral and derived states in our example data are known:"
   ]
  },
  {
   "cell_type": "code",
   "execution_count": 12,
   "id": "f6682bf9",
   "metadata": {},
   "outputs": [
    {
     "name": "stdout",
     "output_type": "stream",
     "text": [
      "Site index 0 has ancestral state G\n",
      "Site index 1 has ancestral state T\n",
      "Site index 2 has ancestral state T\n",
      "Site index 3 has ancestral state T\n"
     ]
    }
   ],
   "source": [
    "for i in ts.sites():\n",
    "    print(f\"Site index {i.id} has ancestral state {i.ancestral_state}\")"
   ]
  },
  {
   "cell_type": "markdown",
   "id": "6569bade",
   "metadata": {},
   "source": [
    "The derived states are:"
   ]
  },
  {
   "cell_type": "code",
   "execution_count": 13,
   "id": "5506a960",
   "metadata": {},
   "outputs": [
    {
     "name": "stdout",
     "output_type": "stream",
     "text": [
      "Mutation 0 at site index 0 has derived state C\n",
      "Mutation 1 at site index 1 has derived state G\n",
      "Mutation 2 at site index 2 has derived state C\n",
      "Mutation 3 at site index 3 has derived state G\n"
     ]
    }
   ],
   "source": [
    "for i in ts.mutations():\n",
    "    print(f\"Mutation {i.id} at site index {i.site} has derived state {i.derived_state}\")"
   ]
  },
  {
   "cell_type": "markdown",
   "id": "5d5ab3e7",
   "metadata": {},
   "source": [
    "Using the convention of representing the ancestral state as `0` and all derived states as integer values greater than `0`, we can rewrite our data matrix as follows:"
   ]
  },
  {
   "cell_type": "code",
   "execution_count": 14,
   "id": "a541c237",
   "metadata": {},
   "outputs": [
    {
     "name": "stdout",
     "output_type": "stream",
     "text": [
      "[[0 0 0 0]\n",
      " [1 1 1 0]\n",
      " [1 1 1 0]\n",
      " [1 1 1 0]\n",
      " [1 1 1 0]\n",
      " [1 1 1 0]\n",
      " [1 1 1 0]\n",
      " [0 0 0 0]\n",
      " [1 1 1 0]\n",
      " [1 1 1 1]]\n"
     ]
    }
   ],
   "source": [
    "derived_state_map = dict()\n",
    "unfolded_fs = []\n",
    "for i in ts.mutations():\n",
    "    if i.id not in derived_state_map:\n",
    "        derived_state_map[i.id] = [i.derived_state]\n",
    "    else:\n",
    "        derived_state_map[i.id].append(i.derived_state)\n",
    "\n",
    "recoded_matrix_ancestral_derived = []\n",
    "for site in range(haplotypes.shape[1]):\n",
    "    for state in haplotypes[:,site]:\n",
    "        if state in derived_state_map[site]:\n",
    "            recoded_matrix_ancestral_derived.append(derived_state_map[site].index(state) + 1)\n",
    "        else:\n",
    "            recoded_matrix_ancestral_derived.append(0)\n",
    "\n",
    "\n",
    "# This is some ugly business.\n",
    "# We are recoding the input *columns* rather than the rows.\n",
    "# To get the right matrix out, we need to reverse the shape and\n",
    "# then transpose.  This is *not* an example of doing things efficiently.\n",
    "recoded_matrix_ancestral_derived = np.array(recoded_matrix_ancestral_derived,\n",
    "                                            dtype=np.int32).reshape(haplotypes.shape[::-1]).T\n",
    "\n",
    "print(recoded_matrix_ancestral_derived)"
   ]
  },
  {
   "cell_type": "markdown",
   "id": "f97216c2",
   "metadata": {},
   "source": [
    "We can similarly recode the data so that `0` is the *minor* allele and all non-zero integers are *major* alleles.\n",
    "For each site in our data, we have:"
   ]
  },
  {
   "cell_type": "code",
   "execution_count": 15,
   "id": "f6e8a59a",
   "metadata": {},
   "outputs": [
    {
     "name": "stdout",
     "output_type": "stream",
     "text": [
      "At site 0, the minor allele is G\n",
      "At site 1, the minor allele is T\n",
      "At site 2, the minor allele is T\n",
      "At site 3, the minor allele is G\n"
     ]
    }
   ],
   "source": [
    "minor_allele_map = dict()\n",
    "for site in range(haplotypes.shape[1]):\n",
    "    counts = np.unique(haplotypes[:, site], return_counts=True)\n",
    "    minor_index = np.where(counts[1] == counts[1].min())\n",
    "    minor_allele_map[site] = counts[0][minor_index][0]\n",
    "    print(f\"At site {site}, the minor allele is {minor_allele_map[site]}\")"
   ]
  },
  {
   "cell_type": "markdown",
   "id": "093d22e6",
   "metadata": {},
   "source": [
    "Given that information, we can recode the data to look like this:"
   ]
  },
  {
   "cell_type": "code",
   "execution_count": 16,
   "id": "b48598b8",
   "metadata": {},
   "outputs": [
    {
     "name": "stdout",
     "output_type": "stream",
     "text": [
      "[[0 0 0 1]\n",
      " [1 1 1 1]\n",
      " [1 1 1 1]\n",
      " [1 1 1 1]\n",
      " [1 1 1 1]\n",
      " [1 1 1 1]\n",
      " [1 1 1 1]\n",
      " [0 0 0 1]\n",
      " [1 1 1 1]\n",
      " [1 1 1 0]]\n"
     ]
    }
   ],
   "source": [
    "# Warning: this code does not generalize to > 2 alleles at a site,\n",
    "# which is why the assert statement exists.\n",
    "\n",
    "recoded_matrix_minor_major = []\n",
    "for row in range(haplotypes.shape[0]):\n",
    "    for site in range(haplotypes.shape[1]):\n",
    "        assert len(np.unique(haplotypes[:, site])) == 2, f\"{np.unique(haplotypes[:, site])}\"\n",
    "        if haplotypes[row, site] == minor_allele_map[site]:\n",
    "            recoded_matrix_minor_major.append(0)\n",
    "        else:\n",
    "            recoded_matrix_minor_major.append(1)\n",
    "\n",
    "recoded_matrix_minor_major = np.array(recoded_matrix_minor_major).reshape(haplotypes.shape)\n",
    "\n",
    "print(recoded_matrix_minor_major)"
   ]
  },
  {
   "cell_type": "markdown",
   "id": "087e72eb",
   "metadata": {},
   "source": [
    "# The site (or allele) frequency spectrum\n",
    "\n",
    "## With respect to the derived allele\n",
    "\n",
    "To get the frequency spectrum, we simply tally the counts for derived states."
   ]
  },
  {
   "cell_type": "code",
   "execution_count": 17,
   "id": "44d386f9",
   "metadata": {},
   "outputs": [
    {
     "name": "stdout",
     "output_type": "stream",
     "text": [
      "[8, 8, 8, 1]\n"
     ]
    }
   ],
   "source": [
    "derived_state_map = dict()\n",
    "unfolded_fs = []\n",
    "for i in ts.mutations():\n",
    "    if i.id not in derived_state_map:\n",
    "        derived_state_map[i.id] = [i.derived_state]\n",
    "    else:\n",
    "        derived_state_map[i.id].append(i.derived_state)\n",
    "\n",
    "for site in range(haplotypes.shape[1]):\n",
    "    counts = np.unique(haplotypes[:,site], return_counts=True)\n",
    "    for j, state in enumerate(counts[0]):\n",
    "        if state in derived_state_map[site]:\n",
    "            unfolded_fs.append(counts[1][j])\n",
    "\n",
    "print(unfolded_fs)"
   ]
  },
  {
   "cell_type": "code",
   "execution_count": 18,
   "id": "43fb0aea",
   "metadata": {},
   "outputs": [
    {
     "data": {
      "image/png": "[encoded data removed]",
      "text/plain": [
       "<Figure size 432x288 with 1 Axes>"
      ]
     },
     "metadata": {
      "filenames": {
       "image/png": "/home/runner/work/visual-popgen/visual-popgen/book/_build/jupyter_execute/markdown/describing_variation_data/descriptive_statistics_33_0.png"
      },
      "needs_background": "light"
     },
     "output_type": "display_data"
    }
   ],
   "source": [
    "f, ax = plt.subplots()\n",
    "# See https://stackoverflow.com/questions/30112420/histogram-for-discrete-values-with-matplotlib\n",
    "# for hints :)\n",
    "_ = ax.hist(unfolded_fs, np.arange(max(unfolded_fs) + 1.5) + 0.5)\n",
    "ax.set_xlabel(\"Derived allele count\")\n",
    "ax.set_ylabel(\"Number of sites\")\n",
    "ax.set_xlim((0, haplotypes.shape[0]))\n",
    "ax.set_xticks([i + 1 for i in range(haplotypes.shape[0])]);\n",
    "ax.set_yticks([i for i in range(max(np.unique(unfolded_fs, return_counts=True)[1]))]);"
   ]
  },
  {
   "cell_type": "markdown",
   "id": "c1702946",
   "metadata": {},
   "source": [
    "## With respect to the minor allele"
   ]
  },
  {
   "cell_type": "code",
   "execution_count": 19,
   "id": "a1ea5798",
   "metadata": {},
   "outputs": [
    {
     "name": "stdout",
     "output_type": "stream",
     "text": [
      "Site index 0: minor allele = ['G'], minor allele count = 2\n",
      "Site index 1: minor allele = ['T'], minor allele count = 2\n",
      "Site index 2: minor allele = ['T'], minor allele count = 2\n"
     ]
    },
    {
     "name": "stdout",
     "output_type": "stream",
     "text": [
      "Site index 3: minor allele = ['G'], minor allele count = 1\n"
     ]
    }
   ],
   "source": [
    "folded_fs = []\n",
    "for site in range(haplotypes.shape[1]):\n",
    "    counts = np.unique(haplotypes[:,site], return_counts=True)\n",
    "    minor_count = counts[1].min()\n",
    "    where_minor_count = np.where(counts[1] == minor_count)\n",
    "    folded_fs.append(minor_count)\n",
    "    print(f\"Site index {site}: minor allele = {counts[0][where_minor_count]}, minor allele count = {minor_count}\")"
   ]
  },
  {
   "cell_type": "code",
   "execution_count": 20,
   "id": "4b31a180",
   "metadata": {},
   "outputs": [
    {
     "data": {
      "image/png": "[encoded data removed]",
      "text/plain": [
       "<Figure size 432x288 with 1 Axes>"
      ]
     },
     "metadata": {
      "filenames": {
       "image/png": "/home/runner/work/visual-popgen/visual-popgen/book/_build/jupyter_execute/markdown/describing_variation_data/descriptive_statistics_36_0.png"
      },
      "needs_background": "light"
     },
     "output_type": "display_data"
    }
   ],
   "source": [
    "f, ax = plt.subplots()\n",
    "# See https://stackoverflow.com/questions/30112420/histogram-for-discrete-values-with-matplotlib\n",
    "# for hints :)\n",
    "_ = ax.hist(folded_fs, np.arange(max(folded_fs) + 1.5) + 0.5)\n",
    "ax.set_xlabel(\"Minor allele count\")\n",
    "ax.set_ylabel(\"Number of sites\")\n",
    "ax.set_xlim((0, haplotypes.shape[0] // 2))\n",
    "ax.set_xticks([i + 1 for i in range(haplotypes.shape[0] // 2)]);\n",
    "ax.set_yticks([i for i in range(max(np.unique(folded_fs, return_counts=True)[1]))]);"
   ]
  },
  {
   "cell_type": "markdown",
   "id": "9cd09a98",
   "metadata": {},
   "source": [
    "# Correlations amongst variable sites (\"linkage disequilibrium\")\n",
    "\n",
    "## The (first of perhaps many) {math}`D` statistic(s).\n",
    "\n",
    "## Pearson's squared correlation coefficient"
   ]
  },
  {
   "cell_type": "code",
   "execution_count": 21,
   "id": "14798d51",
   "metadata": {},
   "outputs": [
    {
     "name": "stdout",
     "output_type": "stream",
     "text": [
      "Site pair (0, 1):\n",
      "\tr^2 between major alleles = 1.0.\n",
      "\tFor derived alleles, r^2 = 1.0\n",
      "Site pair (0, 2):\n",
      "\tr^2 between major alleles = 1.0.\n",
      "\tFor derived alleles, r^2 = 1.0\n",
      "Site pair (0, 3):\n",
      "\tr^2 between major alleles = 0.0278.\n",
      "\tFor derived alleles, r^2 = 0.0278\n",
      "Site pair (1, 2):\n",
      "\tr^2 between major alleles = 1.0.\n",
      "\tFor derived alleles, r^2 = 1.0\n",
      "Site pair (1, 3):\n",
      "\tr^2 between major alleles = 0.0278.\n",
      "\tFor derived alleles, r^2 = 0.0278\n",
      "Site pair (2, 3):\n",
      "\tr^2 between major alleles = 0.0278.\n",
      "\tFor derived alleles, r^2 = 0.0278\n"
     ]
    }
   ],
   "source": [
    "for site_i in range(recoded_matrix_minor_major.shape[1]):\n",
    "    for site_j in range(site_i + 1, recoded_matrix_minor_major.shape[1]):\n",
    "        major = scipy.stats.pearsonr(recoded_matrix_minor_major[:,site_i], recoded_matrix_minor_major[:,site_j])\n",
    "        ad = scipy.stats.pearsonr(recoded_matrix_ancestral_derived[:,site_i], recoded_matrix_ancestral_derived[:,site_j])\n",
    "        major_r2 = round(major[0] ** 2, 4)\n",
    "        ad_r2 = round(ad[0] ** 2, 4)\n",
    "        print(f\"Site pair ({site_i}, {site_j}):\")\n",
    "        print(f\"\\tr^2 between major alleles = {major_r2}.\")\n",
    "        print(f\"\\tFor derived alleles, r^2 = {ad_r2}\")"
   ]
  },
  {
   "cell_type": "markdown",
   "id": "244b2916",
   "metadata": {},
   "source": [
    "You will note that the result is the same for the two encodings of the data.\n",
    "The reason is that the statistic is *squared*, which hides the fact that, for some sites, the correlation coefficient is equal in magnitude but opposite in sign for the two encodings:"
   ]
  },
  {
   "cell_type": "code",
   "execution_count": 22,
   "id": "8d1d0d9f",
   "metadata": {},
   "outputs": [
    {
     "name": "stdout",
     "output_type": "stream",
     "text": [
      "Site pair (0, 1):\n",
      "\tr between major alleles = 1.0.\n",
      "\tFor derived alleles, r = 1.0\n",
      "Site pair (0, 2):\n",
      "\tr between major alleles = 1.0.\n",
      "\tFor derived alleles, r = 1.0\n",
      "Site pair (0, 3):\n",
      "\tr between major alleles = -0.1667.\n",
      "\tFor derived alleles, r = 0.1667\n",
      "Site pair (1, 2):\n",
      "\tr between major alleles = 1.0.\n",
      "\tFor derived alleles, r = 1.0\n",
      "Site pair (1, 3):\n",
      "\tr between major alleles = -0.1667.\n",
      "\tFor derived alleles, r = 0.1667\n",
      "Site pair (2, 3):\n",
      "\tr between major alleles = -0.1667.\n",
      "\tFor derived alleles, r = 0.1667\n"
     ]
    }
   ],
   "source": [
    "for site_i in range(recoded_matrix_minor_major.shape[1]):\n",
    "    for site_j in range(site_i + 1, recoded_matrix_minor_major.shape[1]):\n",
    "        major = scipy.stats.pearsonr(recoded_matrix_minor_major[:,site_i], recoded_matrix_minor_major[:,site_j])\n",
    "        ad = scipy.stats.pearsonr(recoded_matrix_ancestral_derived[:,site_i], recoded_matrix_ancestral_derived[:,site_j])\n",
    "        print(f\"Site pair ({site_i}, {site_j}):\")\n",
    "        print(f\"\\tr between major alleles = {round(major[0], 4)}.\")\n",
    "        print(f\"\\tFor derived alleles, r = {round(ad[0], 4)}\")"
   ]
  }
 ],
 "metadata": {
  "jupytext": {
   "formats": "md:myst",
   "text_representation": {
    "extension": ".md",
    "format_name": "myst"
   }
  },
  "kernelspec": {
   "display_name": "Python 3",
   "language": "python",
   "name": "python3"
  },
  "language_info": {
   "codemirror_mode": {
    "name": "ipython",
    "version": 3
   },
   "file_extension": ".py",
   "mimetype": "text/x-python",
   "name": "python",
   "nbconvert_exporter": "python",
   "pygments_lexer": "ipython3",
   "version": "3.8.12"
  },
  "source_map": [
   11,
   15,
   32,
   45,
   63,
   74,
   78,
   80,
   88,
   92,
   110,
   119,
   127,
   132,
   142,
   144,
   157,
   172,
   187,
   200,
   204,
   212,
   220,
   223,
   227,
   230,
   234,
   260,
   266,
   273,
   277,
   293,
   301,
   319,
   329,
   333,
   343,
   353,
   361,
   371,
   376
  ]
 },
 "nbformat": 4,
 "nbformat_minor": 5
}