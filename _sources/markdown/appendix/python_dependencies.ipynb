{
 "cells": [
  {
   "cell_type": "markdown",
   "id": "c6e26bfb",
   "metadata": {},
   "source": [
    "# Python dependencies\n",
    "\n",
    "The Python requirements for this book are:"
   ]
  },
  {
   "cell_type": "code",
   "execution_count": 1,
   "id": "e07e340f",
   "metadata": {
    "tags": [
     "remove-input"
    ]
   },
   "outputs": [
    {
     "name": "stdout",
     "output_type": "stream",
     "text": [
      "bokeh\n",
      "holoviews\n",
      "jupyter-book\n",
      "matplotlib\n",
      "numpy\n",
      "msprime==1.0.1\n",
      "pandas\n",
      "git+https://bitbucket.com/simongravel/moments\n",
      "\n"
     ]
    }
   ],
   "source": [
    "with open(\"../../../requirements.txt\", \"r\") as f:\n",
    "\tx = f.readlines()\n",
    "\tprint(''.join(x))"
   ]
  },
  {
   "cell_type": "markdown",
   "id": "74de5f11",
   "metadata": {},
   "source": [
    "The above list is defined in `requirements.txt` in the `GitHub` repository.\n",
    "\n",
    "The precise versions of all packages used to create this book are:"
   ]
  },
  {
   "cell_type": "code",
   "execution_count": 2,
   "id": "f95ccfd5",
   "metadata": {
    "tags": [
     "remove-input"
    ]
   },
   "outputs": [
    {
     "name": "stdout",
     "output_type": "stream",
     "text": [
      "alabaster==0.7.12\n",
      "anyio==3.4.0\n",
      "argon2-cffi==21.1.0\n",
      "attrs==21.2.0\n",
      "Babel==2.9.1\n",
      "backcall==0.2.0\n",
      "beautifulsoup4==4.10.0\n",
      "bleach==4.1.0\n",
      "bokeh==2.4.2\n",
      "certifi==2021.10.8\n",
      "cffi==1.15.0\n",
      "charset-normalizer==2.0.8\n",
      "click==7.1.2\n",
      "colorama==0.4.4\n",
      "colorcet==3.0.0\n",
      "cycler==0.11.0\n",
      "Cython==0.29.24\n",
      "debugpy==1.5.1\n",
      "decorator==5.1.0\n",
      "defusedxml==0.7.1\n",
      "demes==0.2.0\n",
      "docutils==0.16\n",
      "entrypoints==0.3\n",
      "fonttools==4.28.2\n",
      "gitdb==4.0.9\n",
      "GitPython==3.1.24\n",
      "greenlet==1.1.2\n",
      "holoviews==1.14.6\n",
      "idna==3.3\n",
      "imagesize==1.3.0\n",
      "importlib-metadata==4.8.2\n",
      "importlib-resources==5.4.0\n",
      "ipykernel==6.6.0\n",
      "ipython==7.30.0\n",
      "ipython-genutils==0.2.0\n",
      "ipywidgets==7.6.5\n",
      "jedi==0.18.1\n",
      "Jinja2==3.0.3\n",
      "jsonschema==3.2.0\n",
      "jupyter-book==0.12.1\n",
      "jupyter-cache==0.4.3\n",
      "jupyter-client==7.1.0\n",
      "jupyter-core==4.9.1\n",
      "jupyter-server==1.12.1\n",
      "jupyter-server-mathjax==0.2.3\n",
      "jupyter-sphinx==0.3.2\n",
      "jupyterlab-pygments==0.1.2\n",
      "jupyterlab-widgets==1.0.2\n",
      "jupytext==1.11.5\n",
      "kiwisolver==1.3.2\n",
      "latexcodec==2.0.1\n",
      "linkify-it-py==1.0.2\n",
      "Markdown==3.3.6\n",
      "markdown-it-py==1.1.0\n",
      "MarkupSafe==2.0.1\n",
      "matplotlib==3.5.0\n",
      "matplotlib-inline==0.1.3\n",
      "mdit-py-plugins==0.2.8\n",
      "mistune==0.8.4\n",
      "moments @ git+https://bitbucket.com/simongravel/moments@1e4136b680312612e2ec31d1f2f3f5521748c9ca\n",
      "mpmath==1.2.1\n",
      "msprime==1.0.1\n",
      "myst-nb==0.13.1\n",
      "myst-parser==0.15.2\n",
      "nbclient==0.5.9\n",
      "nbconvert==6.3.0\n",
      "nbdime==3.1.1\n",
      "nbformat==5.1.3\n",
      "nest-asyncio==1.5.4\n",
      "newick==1.3.1\n",
      "notebook==6.4.6\n",
      "numpy==1.21.4\n",
      "packaging==21.3\n",
      "pandas==1.3.4\n",
      "pandocfilters==1.5.0\n",
      "panel==0.12.5\n",
      "param==1.12.0\n",
      "parso==0.8.3\n",
      "pexpect==4.8.0\n",
      "pickleshare==0.7.5\n",
      "Pillow==8.4.0\n",
      "prometheus-client==0.12.0\n",
      "prompt-toolkit==3.0.23\n",
      "ptyprocess==0.7.0\n",
      "pybtex==0.24.0\n",
      "pybtex-docutils==1.0.1\n",
      "pycparser==2.21\n",
      "pyct==0.4.8\n",
      "pydata-sphinx-theme==0.7.2\n",
      "Pygments==2.10.0\n",
      "pyparsing==3.0.6\n",
      "pyrsistent==0.18.0\n",
      "python-dateutil==2.8.2\n",
      "pytz==2021.3\n",
      "pyviz-comms==2.1.0\n",
      "PyYAML==6.0\n",
      "pyzmq==22.3.0\n",
      "requests==2.26.0\n",
      "ruamel.yaml==0.17.17\n",
      "ruamel.yaml.clib==0.2.6\n",
      "scipy==1.7.3\n",
      "Send2Trash==1.8.0\n",
      "setuptools-scm==6.3.2\n",
      "six==1.16.0\n",
      "smmap==5.0.0\n",
      "sniffio==1.2.0\n",
      "snowballstemmer==2.2.0\n",
      "soupsieve==2.3.1\n",
      "Sphinx==4.3.1\n",
      "sphinx-book-theme==0.1.7\n",
      "sphinx-comments==0.0.3\n",
      "sphinx-copybutton==0.4.0\n",
      "sphinx-external-toc==0.2.3\n",
      "sphinx-jupyterbook-latex==0.4.6\n",
      "sphinx-multitoc-numbering==0.1.3\n",
      "sphinx-panels==0.6.0\n",
      "sphinx-thebe==0.0.10\n",
      "sphinx-togglebutton==0.2.3\n",
      "sphinxcontrib-applehelp==1.0.2\n",
      "sphinxcontrib-bibtex==2.2.1\n",
      "sphinxcontrib-devhelp==1.0.2\n",
      "sphinxcontrib-htmlhelp==2.0.0\n",
      "sphinxcontrib-jsmath==1.0.1\n",
      "sphinxcontrib-qthelp==1.0.3\n",
      "sphinxcontrib-serializinghtml==1.1.5\n",
      "SQLAlchemy==1.4.27\n",
      "svgwrite==1.4.1\n",
      "terminado==0.12.1\n",
      "testpath==0.5.0\n",
      "toml==0.10.2\n",
      "tomli==1.2.2\n",
      "tornado==6.1\n",
      "tqdm==4.62.3\n",
      "traitlets==5.1.1\n",
      "tskit==0.3.7\n",
      "typing_extensions==4.0.1\n",
      "uc-micro-py==1.0.1\n",
      "urllib3==1.26.7\n",
      "wcwidth==0.2.5\n",
      "webencodings==0.5.1\n",
      "websocket-client==1.2.1\n",
      "widgetsnbextension==3.5.2\n",
      "zipp==3.6.0\n",
      "\n"
     ]
    }
   ],
   "source": [
    "import subprocess\n",
    "\n",
    "lockfile = subprocess.run([\"pip\", \"freeze\"], stdout=subprocess.PIPE)\n",
    "print(lockfile.stdout.decode('utf-8'))"
   ]
  }
 ],
 "metadata": {
  "jupytext": {
   "formats": "md:myst",
   "text_representation": {
    "extension": ".md",
    "format_name": "myst"
   }
  },
  "kernelspec": {
   "display_name": "Python 3",
   "language": "python",
   "name": "python3"
  },
  "language_info": {
   "codemirror_mode": {
    "name": "ipython",
    "version": 3
   },
   "file_extension": ".py",
   "mimetype": "text/x-python",
   "name": "python",
   "nbconvert_exporter": "python",
   "pygments_lexer": "ipython3",
   "version": "3.8.12"
  },
  "source_map": [
   11,
   17,
   25,
   31
  ]
 },
 "nbformat": 4,
 "nbformat_minor": 5
}