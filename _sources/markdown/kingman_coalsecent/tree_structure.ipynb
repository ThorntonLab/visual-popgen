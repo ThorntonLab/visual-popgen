{
 "cells": [
  {
   "cell_type": "markdown",
   "id": "aea30044",
   "metadata": {},
   "source": [
    "# The structure of a tree"
   ]
  },
  {
   "cell_type": "code",
   "execution_count": 1,
   "id": "c6fe5e3b",
   "metadata": {
    "tags": [
     "remove-input"
    ]
   },
   "outputs": [
    {
     "data": {
      "image/svg+xml": [
       "<svg xmlns=\"http://www.w3.org/2000/svg\" xmlns:ev=\"http://www.w3.org/2001/xml-events\" xmlns:xlink=\"http://www.w3.org/1999/xlink\" baseProfile=\"full\" height=\"500\" version=\"1.1\" width=\"800\"><defs><style type=\"text/css\"><![CDATA[.background path {fill: #808080; fill-opacity: 0}.background path:nth-child(odd) {fill-opacity: .1}.axes {font-size: 14px}.x-axis .tick .lab {font-weight: bold; dominant-baseline: hanging}.axes, .tree {font-size: 14px; text-anchor: middle}.axes line, .edge {stroke: black; fill: none}.y-axis .grid {stroke: #FAFAFA}.node > .sym {fill: black; stroke: none}.site > .sym {stroke: black}.mut text {fill: red; font-style: italic}.mut.extra text {fill: hotpink}.mut line {fill: none; stroke: none}.mut .sym {fill: none; stroke: red}.mut.extra .sym {stroke: hotpink}.node .mut .sym {stroke-width: 1.5px}.tree text, .tree-sequence text {dominant-baseline: central}.plotbox .lab.lft {text-anchor: end}.plotbox .lab.rgt {text-anchor: start}]]></style></defs><g class=\"tree-sequence\"><g class=\"plotbox trees\"><g class=\"tree t0\" transform=\"translate(20 0)\"><g class=\"plotbox\"><g class=\"c2 node n8 p0 root\" transform=\"translate(533 26.8)\"><g class=\"a8 i3 leaf node n3 p0 sample\" transform=\"translate(135 431.4)\"><path class=\"edge\" d=\"M 0 0 V -431.4 H -135\"/><rect class=\"sym\" height=\"6\" width=\"6\" x=\"-3\" y=\"-3\"/><text class=\"lab\" transform=\"translate(0 11)\">0, 1, 8828</text></g><g class=\"a8 c2 node n7 p0\" transform=\"translate(-135 142.305)\"><g class=\"a7 i2 leaf node n2 p0 sample\" transform=\"translate(126 289.095)\"><path class=\"edge\" d=\"M 0 0 V -289.095 H -126\"/><rect class=\"sym\" height=\"6\" width=\"6\" x=\"-3\" y=\"-3\"/><text class=\"lab\" transform=\"translate(0 11)\">0, 1, 5916</text></g><g class=\"a7 c2 node n6 p0\" transform=\"translate(-126 257.834)\"><g class=\"a6 i1 leaf node n1 p0 sample\" transform=\"translate(108 31.2615)\"><path class=\"edge\" d=\"M 0 0 V -31.2615 H -108\"/><rect class=\"sym\" height=\"6\" width=\"6\" x=\"-3\" y=\"-3\"/><text class=\"lab\" transform=\"translate(0 11)\">0, 1, 639</text></g><g class=\"a6 c2 node n5 p0\" transform=\"translate(-108 12.1349)\"><g class=\"a5 i0 leaf node n0 p0 sample\" transform=\"translate(-72 19.1266)\"><path class=\"edge\" d=\"M 0 0 V -19.1266 H 72\"/><rect class=\"sym\" height=\"6\" width=\"6\" x=\"-3\" y=\"-3\"/><text class=\"lab\" transform=\"translate(0 11)\">0, 1, 391</text></g><g class=\"a5 i4 leaf node n4 p0 sample\" transform=\"translate(72 19.1266)\"><path class=\"edge\" d=\"M 0 0 V -19.1266 H -72\"/><rect class=\"sym\" height=\"6\" width=\"6\" x=\"-3\" y=\"-3\"/><text class=\"lab\" transform=\"translate(0 11)\">0, 1, 391</text></g><path class=\"edge\" d=\"M 0 0 V -12.1349 H 108\"/><circle class=\"sym\" cx=\"0\" cy=\"0\" r=\"3\"/><text class=\"lab lft\" transform=\"translate(-3 -7.0)\">391, 2, 248</text></g><path class=\"edge\" d=\"M 0 0 V -257.834 H 126\"/><circle class=\"sym\" cx=\"0\" cy=\"0\" r=\"3\"/><text class=\"lab lft\" transform=\"translate(-3 -7.0)\">639, 3, 5276</text></g><path class=\"edge\" d=\"M 0 0 V -142.305 H 135\"/><circle class=\"sym\" cx=\"0\" cy=\"0\" r=\"3\"/><text class=\"lab lft\" transform=\"translate(-3 -7.0)\">5916, 4, 2912</text></g><circle class=\"sym\" cx=\"0\" cy=\"0\" r=\"3\"/><text class=\"lab\" transform=\"translate(0 -11)\">8828, 5, 0</text></g></g></g></g></g></svg>"
      ],
      "text/plain": [
       "<IPython.core.display.SVG object>"
      ]
     },
     "metadata": {
      "filenames": {
       "image/svg+xml": "/home/runner/work/visual-popgen/visual-popgen/book/_build/jupyter_execute/markdown/kingman_coalsecent/tree_structure_1_0.svg"
      },
      "scrapbook": {
       "mime_prefix": "application/papermill.record/",
       "name": "tree_structure"
      }
     },
     "output_type": "display_data"
    }
   ],
   "source": [
    "import msprime\n",
    "import matplotlib.pyplot as plt\n",
    "from IPython.display import SVG\n",
    "from myst_nb import glue\n",
    "\n",
    "\n",
    "ts = msprime.sim_ancestry(\n",
    "        5, ploidy=1, population_size=10000, random_seed=58185152 \n",
    "    )\n",
    "node_labels = {}\n",
    "t = ts.first() # The first (only!) tree in this ts.\n",
    "for n in t.nodes():\n",
    "    blen = t.branch_length(n)\n",
    "    ntime = t.time(n)\n",
    "    ndes = t.num_samples(n)\n",
    "    node_labels[n] = f\"{int(ntime)}, {ndes}, {int(blen)}\"\n",
    "\n",
    "glue(\"tree_structure\",\n",
    "     SVG(ts.draw_svg(size=(800, 500),\n",
    "     x_scale=\"treewise\",\n",
    "     x_axis=False,\n",
    "     node_labels=node_labels)),\n",
    "     display=False)"
   ]
  },
  {
   "cell_type": "markdown",
   "id": "14819a8f",
   "metadata": {},
   "source": [
    "````{tabbed} The tree\n",
    "```{glue:figure} tree_structure\n",
    ":figwidth: 800\n",
    ":name: \"tree_structure\"\n",
    "\n",
    "The genealogical relationship of five lineages.\n",
    "It may be simplest to think of a lineage as a haploid lineage.\n",
    "Alternately, each lineage could be one lineage in a diploid.\n",
    "For example, the maternal **or** the paternal allele.\n",
    "Each node is labelled by birth time, number of descendant nodes, and branch length (int time) to the node's parent.\n",
    "All branch lengths are in *generations*.\n",
    "By convention, time zero (0) refers to the present.\n",
    "(Zero generations ago.)\n",
    "Time *increases* as we move from the present into the past.\n",
    "```\n",
    "````\n",
    "\n",
    "````{tabbed} Details\n",
    "\n",
    "* This tree is the *genalogical history* of a genomic region of length $L$ units.\n",
    "* Typically, the units of $L$ will be in *base pairs*.\n",
    "  But, it could be in more abstract, such as genetic distance.\n",
    "* If we define a mutation rate, $\\mu$ as the expected number of mutations *per unit, per generation*...\n",
    "* ...then the expected number of mutations on a branch is $B\\mu L$, where $B$ is the branch length.\n",
    "* A mutation on a branch above a node with $d$ descendants affect the character state of all descendants...\n",
    "* ...unless there's another mutation at the same position on one (or more) descendant lineages.\n",
    "````\n",
    "\n",
    "````{tabbed} More details\n",
    "\n",
    "* It is often convenient to measure time in generations divided by the ploidy times the population size.\n",
    "* For example, in a diploid population of $N$ indidivuals, we may measure time as $\\frac{g}{2N}$.\n",
    "* When we do this, we must also re-scale the mutation rate accordingly.\n",
    "  Again for diploids, we'd use $2N\\mu$.\n",
    "````"
   ]
  }
 ],
 "metadata": {
  "jupytext": {
   "formats": "md:myst",
   "text_representation": {
    "extension": ".md",
    "format_name": "myst"
   }
  },
  "kernelspec": {
   "display_name": "Python 3",
   "language": "python",
   "name": "python3"
  },
  "language_info": {
   "codemirror_mode": {
    "name": "ipython",
    "version": 3
   },
   "file_extension": ".py",
   "mimetype": "text/x-python",
   "name": "python",
   "nbconvert_exporter": "python",
   "pygments_lexer": "ipython3",
   "version": "3.8.12"
  },
  "source_map": [
   11,
   16,
   44
  ]
 },
 "nbformat": 4,
 "nbformat_minor": 5
}